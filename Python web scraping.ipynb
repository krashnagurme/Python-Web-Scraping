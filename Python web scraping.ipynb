{
 "cells": [
  {
   "cell_type": "markdown",
   "metadata": {},
   "source": [
    "# Project : Data Extraction from Pin Code Site\n",
    "\n",
    "> # Author : KRASHNA GURME\n",
    "> # Date : 03/03/2021\n",
    "\n",
    "   > * Extracting data from http://pincode.india-server.com/ \n",
    "   > * Here, we're extracting variables/columns like State, City, Post Office and Pin Code. Perform this operation only for Assam and Bihar states.\n"
   ]
  },
  {
   "cell_type": "code",
   "execution_count": 7,
   "metadata": {},
   "outputs": [],
   "source": [
    "# Importing necessary packages and modules \n",
    "\n",
    "from bs4 import BeautifulSoup as bs\n",
    "import urllib\n",
    "import re\n",
    "import requests\n",
    "from urllib.request import urlopen\n",
    "\n",
    "# Function to get anchor links \n",
    "def getLinks(url):\n",
    "    html_page = urlopen(url)\n",
    "    soup = bs(html_page)\n",
    "    links = []\n",
    "\n",
    "    for link in soup.findAll('a', attrs={'href': re.compile(\"^http://\")}):\n",
    "        links.append(link.get('href'))\n",
    "\n",
    "    return links\n",
    "\n",
    "# Stroring all links of State in List variable\n",
    "allListStateLinks = getLinks('http://pincode.india-server.com/')"
   ]
  },
  {
   "cell_type": "code",
   "execution_count": 8,
   "metadata": {},
   "outputs": [],
   "source": [
    "# Create a array fo rdynamic state input\n",
    "\n",
    "stateList = [\"assam\",\"bihar\"]\n",
    "dictListofStateLinks = {}\n",
    "\n",
    "# Get all State Links \n",
    "for eachStateName in stateList:\n",
    "    for items in allListStateLinks:\n",
    "        if eachStateName in items:\n",
    "            stateLink = items\n",
    "            break;\n",
    "    dictListofStateLinks[eachStateName] = stateLink\n",
    "#print(dictListofStateLinks)"
   ]
  },
  {
   "cell_type": "code",
   "execution_count": 9,
   "metadata": {},
   "outputs": [],
   "source": [
    "# Get all District respective to each State simultaneously\n",
    "dictAllDistrictLinks = {}\n",
    "for eachState in dictListofStateLinks:    \n",
    "    dictAllDistrictLinks[eachState] = getLinks(dictListofStateLinks[eachState])\n",
    "                                                                    \n",
    "#print(dictAllDistrictLinks)"
   ]
  },
  {
   "cell_type": "code",
   "execution_count": 10,
   "metadata": {
    "scrolled": true
   },
   "outputs": [],
   "source": [
    "# print(dictAllDistrictLinks) last output \n",
    "\n",
    "# Remove other links which are not of the respective State-District City Link\n",
    "wordCities = 'cities'\n",
    "allDistrictCities = {}\n",
    "\n",
    "for district in dictAllDistrictLinks:\n",
    "    allDistrictlink = []\n",
    "    for items in dictAllDistrictLinks[district]:\n",
    "        if wordCities in items:\n",
    "            allDistrictlink.append(items)\n",
    "    allDistrictCities[district]=allDistrictlink\n",
    "    \n",
    "#print(allDistrictCities)"
   ]
  },
  {
   "cell_type": "code",
   "execution_count": 11,
   "metadata": {},
   "outputs": [],
   "source": [
    "# last input >> allDistrictCities\n",
    "# Get Post Names and Pincodes with respective District of parent State\n",
    "alldictStateData = {}\n",
    "postOfficeWord = 'postoffice'\n",
    "\n",
    "# Iterating throu' all the Post Links and trimming the rest part so that user get only PostName and POstal Code respectively \n",
    "for districtItem in allDistrictCities:\n",
    "    dictStateData = {}\n",
    "    for items_nn in allDistrictCities[districtItem]:   # district thro\n",
    "        postOfficeList =  getLinks(items_nn)  #\n",
    "        cityPostLink = []\n",
    "        split_str_1 = items_nn.split(\"/\")\n",
    "        \n",
    "        for each_item in postOfficeList:\n",
    "            if postOfficeWord in each_item:\n",
    "                split_str = each_item.split(\"/\")\n",
    "                #print(split_str)\n",
    "                cityPostLink.append(split_str[4])\n",
    "       \n",
    "        dictStateData[split_str_1[4]] = list(cityPostLink)  \n",
    "    alldictStateData[districtItem] = dictStateData    \n",
    "#print(alldictStateData)"
   ]
  },
  {
   "cell_type": "code",
   "execution_count": 12,
   "metadata": {},
   "outputs": [
    {
     "name": "stdout",
     "output_type": "stream",
     "text": [
      "{'assam': [{'State': 'assam', 'City': 'barpeta', 'Post-office': 'thakurbazar non delivery', 'Pin-code': '781301'}, {'State': 'assam', 'City': 'bongaigaon', 'Post-office': 'topgaon', 'Pin-code': '783384'}, {'State': 'assam', 'City': 'cachar', 'Post-office': 'uttarkrishnapur', 'Pin-code': '788006'}, {'State': 'assam', 'City': 'darrang', 'Post-office': 'thana udalguri', 'Pin-code': '784509'}, {'State': 'assam', 'City': 'dhemaji', 'Post-office': 'talem non delivery', 'Pin-code': '787061'}, {'State': 'assam', 'City': 'dhubri', 'Post-office': 'tokrerchara', 'Pin-code': '783334'}, {'State': 'assam', 'City': 'dibrugarh', 'Post-office': 'ushapur', 'Pin-code': '786614'}, {'State': 'assam', 'City': 'goalpara', 'Post-office': 'upartala', 'Pin-code': '783124'}, {'State': 'assam', 'City': 'golaghat', 'Post-office': 'upper lengtha', 'Pin-code': '785602'}, {'State': 'assam', 'City': 'hailakandi', 'Post-office': 'vetarband', 'Pin-code': '788736'}, {'State': 'assam', 'City': 'jorhat', 'Post-office': 'urongial', 'Pin-code': '785631'}, {'State': 'assam', 'City': 'kamrup', 'Post-office': 'warmawsaw', 'Pin-code': '781131'}, {'State': 'assam', 'City': 'karbi-anglong', 'Post-office': 'watijor', 'Pin-code': '782446'}, {'State': 'assam', 'City': 'karimganj', 'Post-office': 'tillabazar', 'Pin-code': '788709'}, {'State': 'assam', 'City': 'kokrajhar', 'Post-office': 'ultapani', 'Pin-code': '783370'}, {'State': 'assam', 'City': 'lakhimpur', 'Post-office': 'ukhamati non delivery', 'Pin-code': '787056'}, {'State': 'assam', 'City': 'marigaon', 'Post-office': 'udari', 'Pin-code': '782105'}, {'State': 'assam', 'City': 'nagaon', 'Post-office': 'uttar khatowal', 'Pin-code': '782128'}, {'State': 'assam', 'City': 'nalbari', 'Post-office': 'uttarkuchi', 'Pin-code': '781372'}, {'State': 'assam', 'City': 'dima-hasao', 'Post-office': 'wardendisha', 'Pin-code': '788831'}, {'State': 'assam', 'City': 'sivasagar', 'Post-office': 'ujanikuri', 'Pin-code': '785692'}, {'State': 'assam', 'City': 'sonitpur', 'Post-office': 'uriumguri', 'Pin-code': '784025'}, {'State': 'assam', 'City': 'tinsukia', 'Post-office': 'udai pur', 'Pin-code': '786182'}], 'bihar': [{'State': 'bihar', 'City': 'araria', 'Post-office': 'tiraskund', 'Pin-code': '854318'}, {'State': 'bihar', 'City': 'arwal', 'Post-office': 'prasadi english', 'Pin-code': '804401'}, {'State': 'bihar', 'City': 'aurangabad', 'Post-office': 'yesgaon', 'Pin-code': '431101'}, {'State': 'bihar', 'City': 'banka', 'Post-office': 'uprama', 'Pin-code': '813107'}, {'State': 'bihar', 'City': 'begusarai', 'Post-office': 'tilrath', 'Pin-code': '851112'}, {'State': 'bihar', 'City': 'bhagalpur', 'Post-office': 'tulsipur jamunia', 'Pin-code': '853202'}, {'State': 'bihar', 'City': 'bhojpur', 'Post-office': 'waina jamuni pur', 'Pin-code': '802155'}, {'State': 'bihar', 'City': 'buxar', 'Post-office': 'upadhyapandeypur', 'Pin-code': '802118'}, {'State': 'bihar', 'City': 'darbhanga', 'Post-office': 'ujua', 'Pin-code': '848213'}, {'State': 'bihar', 'City': 'east-champaran', 'Post-office': 'tola mauje', 'Pin-code': '845433'}, {'State': 'bihar', 'City': 'gaya', 'Post-office': 'wazirganj gaya', 'Pin-code': '805131'}, {'State': 'bihar', 'City': 'gopalganj', 'Post-office': 'v s mill', 'Pin-code': '841428'}, {'State': 'bihar', 'City': 'jamui', 'Post-office': 'tihiya', 'Pin-code': '811305'}, {'State': 'bihar', 'City': 'jehanabad', 'Post-office': 'utrawan', 'Pin-code': '824235'}, {'State': 'bihar', 'City': 'kaimur', 'Post-office': 'umapur saraiya', 'Pin-code': '821102'}, {'State': 'bihar', 'City': 'katihar', 'Post-office': 'tikapatti', 'Pin-code': '854101'}, {'State': 'bihar', 'City': 'khagaria', 'Post-office': 'thatha', 'Pin-code': '851214'}, {'State': 'bihar', 'City': 'kishanganj', 'Post-office': 'toesa', 'Pin-code': '855107'}, {'State': 'bihar', 'City': 'lakhisarai', 'Post-office': 'urain', 'Pin-code': '811309'}, {'State': 'bihar', 'City': 'madhepura', 'Post-office': 'turkahi', 'Pin-code': '852113'}, {'State': 'bihar', 'City': 'madhubani', 'Post-office': 'uttra', 'Pin-code': '847308'}, {'State': 'bihar', 'City': 'munger', 'Post-office': 'tola bangalwa', 'Pin-code': '811212'}, {'State': 'bihar', 'City': 'muzaffarpur', 'Post-office': 'umanagar', 'Pin-code': '842004'}, {'State': 'bihar', 'City': 'nalanda', 'Post-office': 'waiyao', 'Pin-code': '803107'}, {'State': 'bihar', 'City': 'nawada', 'Post-office': 'tungi', 'Pin-code': '805129'}, {'State': 'bihar', 'City': 'patna', 'Post-office': 'wazirpur', 'Pin-code': '801104'}, {'State': 'bihar', 'City': 'purnia', 'Post-office': 'tolikola', 'Pin-code': '854330'}, {'State': 'bihar', 'City': 'rohtas', 'Post-office': 'udaipur', 'Pin-code': '802220'}, {'State': 'bihar', 'City': 'saharsa', 'Post-office': 'terhi', 'Pin-code': '852216'}, {'State': 'bihar', 'City': 'samastipur', 'Post-office': 'wari', 'Pin-code': '848209'}, {'State': 'bihar', 'City': 'saran', 'Post-office': 'ushti', 'Pin-code': '841403'}, {'State': 'bihar', 'City': 'sheikhpura', 'Post-office': 'teus', 'Pin-code': '811101'}, {'State': 'bihar', 'City': 'sheohar', 'Post-office': 'shyampur', 'Pin-code': '843329'}, {'State': 'bihar', 'City': 'sitamarhi', 'Post-office': 'ufrauli non delivery', 'Pin-code': '843360'}, {'State': 'bihar', 'City': 'siwan', 'Post-office': 'ukhai', 'Pin-code': '841227'}, {'State': 'bihar', 'City': 'supaul', 'Post-office': 'triveniganj', 'Pin-code': '852139'}, {'State': 'bihar', 'City': 'vaishali', 'Post-office': 'warispur', 'Pin-code': '844114'}, {'State': 'bihar', 'City': 'pashchim-champaran', 'Post-office': 'valmiki nagar', 'Pin-code': '845107'}]}\n"
     ]
    }
   ],
   "source": [
    "# alldictStateData >> last op\n",
    "\n",
    "# Print Result in format of State:District::City:::Pin Code(JSON Format-dict)\n",
    "final_result = {}\n",
    "\n",
    "# Output Formatting Logic as a JSON Format in Nested Dictionary\n",
    "for eachState_Name in alldictStateData:\n",
    "    result = []\n",
    "    for key in alldictStateData[eachState_Name]:\n",
    "        for i in range(len(alldictStateData[eachState_Name][key])-1):\n",
    "            each_post = alldictStateData[eachState_Name][key][i]\n",
    "            postDetails = each_post.split(\"-\") \n",
    "            lengthPost = len(postDetails)\n",
    "            pincode = postDetails[len(postDetails)-1]\n",
    "            Postoffice = postDetails[0]\n",
    "            if lengthPost > 2:\n",
    "                varUse = postDetails.pop(len(postDetails)-1)\n",
    "                Postoffice = \" \".join(postDetails)\n",
    "\n",
    "            dictSorted = {}\n",
    "            dictSorted[\"State\"] = eachState_Name\n",
    "            dictSorted[\"City\"] = key                      \n",
    "            dictSorted[\"Post-office\"] = Postoffice\n",
    "            dictSorted[\"Pin-code\"] = pincode \n",
    "        result.append(dictSorted)    \n",
    "    final_result[eachState_Name]=result\n",
    "    \n",
    "print(final_result)"
   ]
  },
  {
   "cell_type": "markdown",
   "metadata": {},
   "source": [
    "> Here, you could use a online JSON formatter for getting above data into more redable format. \n",
    "> * https://jsonformatter.curiousconcept.com/"
   ]
  },
  {
   "cell_type": "code",
   "execution_count": null,
   "metadata": {},
   "outputs": [],
   "source": []
  }
 ],
 "metadata": {
  "kernelspec": {
   "display_name": "Python 3",
   "language": "python",
   "name": "python3"
  },
  "language_info": {
   "codemirror_mode": {
    "name": "ipython",
    "version": 3
   },
   "file_extension": ".py",
   "mimetype": "text/x-python",
   "name": "python",
   "nbconvert_exporter": "python",
   "pygments_lexer": "ipython3",
   "version": "3.7.4"
  }
 },
 "nbformat": 4,
 "nbformat_minor": 2
}
